{
 "cells": [
  {
   "cell_type": "markdown",
   "metadata": {},
   "source": [
    "# Git and Bash Foundations"
   ]
  },
  {
   "cell_type": "markdown",
   "metadata": {},
   "source": [
    "This is in continuation of the Scientific Writing Seminar at UBC, hosted by Patrick Walls. This notebook is aimed to be a [tutorial](https://github.com/ubcs3/2016-Summer/blob/master/2016-07-27-notes.ipynb) on Github."
   ]
  },
  {
   "cell_type": "markdown",
   "metadata": {},
   "source": [
    "## 1. Git and GitHub"
   ]
  },
  {
   "cell_type": "markdown",
   "metadata": {},
   "source": [
    "[Git](https://git-scm.com/) is an open source version control software developed by the one and only Linus Torvald, while [GitHub](https://github.com/) is an hosting platform for projects managed using Git. It's that easy. But if things don't get easy, there is always [help](https://help.github.com/) to be had."
   ]
  },
  {
   "cell_type": "markdown",
   "metadata": {},
   "source": [
    "### Workflow for GitHub:"
   ]
  },
  {
   "cell_type": "markdown",
   "metadata": {},
   "source": [
    "1. A central user creates a repository.\n",
    "2. The central user adds collaborators by their username.\n",
    "3. Collaborators cloen the GitHub repository from the central user to their own local machine.\n",
    "4. Collaborators make changes locally and push themto GitHub.\n",
    "5. Collaborators pull other people's changes from GitHub to their local machine.\n",
    "6. All communications, conflicts and ideas are delegated in the issues tab of the GitHub repository."
   ]
  },
  {
   "cell_type": "code",
   "execution_count": null,
   "metadata": {
    "collapsed": true
   },
   "outputs": [],
   "source": []
  }
 ],
 "metadata": {
  "kernelspec": {
   "display_name": "Python 3",
   "language": "python",
   "name": "python3"
  },
  "language_info": {
   "codemirror_mode": {
    "name": "ipython",
    "version": 3
   },
   "file_extension": ".py",
   "mimetype": "text/x-python",
   "name": "python",
   "nbconvert_exporter": "python",
   "pygments_lexer": "ipython3",
   "version": "3.5.2"
  }
 },
 "nbformat": 4,
 "nbformat_minor": 2
}
