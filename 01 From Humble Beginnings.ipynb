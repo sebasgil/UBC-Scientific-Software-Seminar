{
 "cells": [
  {
   "cell_type": "markdown",
   "metadata": {},
   "source": [
    "# From Humble Beginnings"
   ]
  },
  {
   "cell_type": "markdown",
   "metadata": {},
   "source": [
    "## Jupyter"
   ]
  },
  {
   "cell_type": "markdown",
   "metadata": {},
   "source": [
    "Jupyter, formerly the IPython Notebook, is simply the best. Why would anybody want to go back to programming with scripts? There are so many [reasons](https://www.dataquest.io/blog/jupyter-notebook-tips-tricks-shortcuts/) why Jupyter is wonderful!"
   ]
  },
  {
   "cell_type": "markdown",
   "metadata": {},
   "source": [
    "## Markdown"
   ]
  },
  {
   "cell_type": "markdown",
   "metadata": {},
   "source": [
    "The motivation behind [markdown](https://github.com/adam-p/markdown-here/wiki/Markdown-Cheatsheet) is to allow users to easily convert between html and regular text. This is accomplished by means of easy-to-use-shortcuts. In what follows we will look at some of the most common examples of what we may want to do."
   ]
  },
  {
   "cell_type": "markdown",
   "metadata": {},
   "source": [
    "``` First and foremost, three consecutive backticks allow us to get away with shit we wouldn't have been able to before by returning the output as a code block ```"
   ]
  },
  {
   "cell_type": "markdown",
   "metadata": {},
   "source": [
    "`### For example`"
   ]
  },
  {
   "cell_type": "markdown",
   "metadata": {},
   "source": [
    "### As opposed to this"
   ]
  },
  {
   "cell_type": "markdown",
   "metadata": {},
   "source": [
    "We can also use the three backtick paradigm to write blocks of code in the syntax of a given code:"
   ]
  },
  {
   "cell_type": "markdown",
   "metadata": {},
   "source": [
    "```python\n",
    "import matplotlib.pyplot as plt\n",
    "```"
   ]
  },
  {
   "cell_type": "markdown",
   "metadata": {},
   "source": [
    "In the above example we wrote the name of the intended language, python, followed by the example line. It was all wrapped by three backticks!"
   ]
  },
  {
   "cell_type": "markdown",
   "metadata": {},
   "source": [
    "We can also use LaTeX code by wrapping it around double `$$` signs"
   ]
  },
  {
   "cell_type": "markdown",
   "metadata": {},
   "source": [
    "```LaTeX\n",
    "$$\\int_a^b f(x) \\ dx = F(b) - F(a) $$\n",
    "```\n",
    "\n",
    "becomes\n",
    "\n",
    "$$\\int_a^b f(x) \\ dx = F(b) - F(a) $$"
   ]
  },
  {
   "cell_type": "markdown",
   "metadata": {
    "collapsed": true
   },
   "source": [
    "We also know that we can use asterisks (`*`) to either:\n",
    "\n",
    "* make unordered lists, \n",
    "* make text **bold** \n",
    "* or wrap it in *italics*.\n",
    "\n",
    "That on its own is very straightforward."
   ]
  },
  {
   "cell_type": "markdown",
   "metadata": {},
   "source": [
    "We may also add images using the following syntax: `![label](URL)`:\n",
    "\n",
    "![Python Logo](https://www.python.org/static/community_logos/python-logo-master-v3-TM.png)\n",
    "\n",
    "(I wonder what the label does... Maybe it can be called?)"
   ]
  },
  {
   "cell_type": "markdown",
   "metadata": {},
   "source": [
    "## Using GitHub"
   ]
  },
  {
   "cell_type": "markdown",
   "metadata": {},
   "source": [
    "Ok, so having signed up we are taken to an [introductory guide](https://guides.github.com/activities/hello-world/). These are somewhat similar to what Patrick Walls [posted](https://github.com/ubcs3/2016-Summer/blob/master/2016-07-20-notes.ipynb), albeit his idea is more relevant to our present purposes."
   ]
  },
  {
   "cell_type": "markdown",
   "metadata": {},
   "source": [
    "Before we go on, however, we can say a couple of things about GitHub:\n",
    "\n",
    "* It's a code hosting platform for version control and collaboration. If allows people to work on projects everywhere!\n",
    "\n",
    "* A **repository** is a collection of files and folders hosted on GitHub\n",
    "\n",
    "* A **branch** enables users to work on multiple versions of a repository concurrently. The **master** branch is intended for release.\n",
    "\n",
    "* A **pull request** is a tentative submission proposed by a user. If accepted, the request will be merged into an existing branch of the main project.\n",
    "\n",
    "In what remains of this notebook, we shall complete the exercises as described in the seminar notebook."
   ]
  },
  {
   "cell_type": "markdown",
   "metadata": {},
   "source": [
    "### 1. Creating a repository on GitHub"
   ]
  },
  {
   "cell_type": "markdown",
   "metadata": {},
   "source": [
    "These involve uploading notebooks both to GitHub and JupyterHub (now syzygy). Since I am currently not enrolled as a student at UBC, I shall ommit this.\n",
    "\n",
    "I made  repository which may be found [here]("
   ]
  },
  {
   "cell_type": "code",
   "execution_count": null,
   "metadata": {
    "collapsed": true
   },
   "outputs": [],
   "source": []
  }
 ],
 "metadata": {
  "kernelspec": {
   "display_name": "Python 3",
   "language": "python",
   "name": "python3"
  },
  "language_info": {
   "codemirror_mode": {
    "name": "ipython",
    "version": 3
   },
   "file_extension": ".py",
   "mimetype": "text/x-python",
   "name": "python",
   "nbconvert_exporter": "python",
   "pygments_lexer": "ipython3",
   "version": "3.5.2"
  }
 },
 "nbformat": 4,
 "nbformat_minor": 2
}
